{
 "cells": [
  {
   "cell_type": "markdown",
   "metadata": {},
   "source": [
    "# Physical Curiosity Data Analysis\n",
    "Rinat 15/12/17"
   ]
  },
  {
   "cell_type": "markdown",
   "metadata": {},
   "source": [
    "### import libraries"
   ]
  },
  {
   "cell_type": "code",
   "execution_count": 192,
   "metadata": {
    "collapsed": true
   },
   "outputs": [],
   "source": [
    "import pandas as pd\n",
    "import numpy as np\n",
    "import matplotlib.pyplot as plt\n",
    "import matplotlib as mpl\n",
    "import matplotlib.cbook as cbook\n",
    "from scipy.stats import pearsonr"
   ]
  },
  {
   "cell_type": "markdown",
   "metadata": {},
   "source": [
    "###useful links:\n",
    "\n",
    "https://matplotlib.org/tutorials/\n",
    "\n",
    "http://pandas.pydata.org/pandas-docs/stable/\n",
    "\n",
    "http://pandas.pydata.org/pandas-docs/version/0.18/generated/pandas.core.groupby.DataFrameGroupBy.hist.html"
   ]
  },
  {
   "cell_type": "markdown",
   "metadata": {},
   "source": [
    "## Read & Process data"
   ]
  },
  {
   "cell_type": "code",
   "execution_count": 121,
   "metadata": {
    "collapsed": true
   },
   "outputs": [],
   "source": [
    "df_demographics = pd.read_csv('demographics.csv', sep=',')\n",
    "df_tablet = pd.read_csv('tablet.csv', sep=',')\n",
    "df_summary = pd.DataFrame ()"
   ]
  },
  {
   "cell_type": "markdown",
   "metadata": {},
   "source": [
    "### Process BFI data"
   ]
  },
  {
   "cell_type": "code",
   "execution_count": 59,
   "metadata": {
    "collapsed": true
   },
   "outputs": [],
   "source": [
    "df_BFI = pd.read_csv('BFI.csv', sep=',')\n",
    "def process_BFI():\n",
    "    # Reverse BFI:\n",
    "    df_BFI[\"BFI_6r\"] = 6 - df_BFI[\"BFI_6\"]\n",
    "    df_BFI[\"BFI_21r\"] = 6 - df_BFI[\"BFI_21\"]\n",
    "    df_BFI[\"BFI_9r\"] = 6 - df_BFI[\"BFI_9\"]\n",
    "    df_BFI[\"BFI_24r\"] = 6 - df_BFI[\"BFI_4\"]\n",
    "    df_BFI[\"BFI_34r\"] = 6 - df_BFI[\"BFI_34\"]\n",
    "    df_BFI[\"BFI_2r\"] = 6 - df_BFI[\"BFI_2\"]\n",
    "    df_BFI[\"BFI_12r\"] = 6 - df_BFI[\"BFI_12\"]\n",
    "    df_BFI[\"BFI_27r\"] = 6 - df_BFI[\"BFI_27\"]\n",
    "    df_BFI[\"BFI_37r\"] = 6 - df_BFI[\"BFI_37\"]\n",
    "    df_BFI[\"BFI_8r\"] = 6 - df_BFI[\"BFI_8\"]\n",
    "    df_BFI[\"BFI_18r\"] = 6 - df_BFI[\"BFI_18\"]\n",
    "    df_BFI[\"BFI_23r\"] = 6 - df_BFI[\"BFI_23\"]\n",
    "    df_BFI[\"BFI_43r\"] = 6 - df_BFI[\"BFI_43\"]\n",
    "    df_BFI[\"BFI_35r\"] = 6 - df_BFI[\"BFI_35\"]\n",
    "    df_BFI[\"BFI_41r\"] = 6 - df_BFI[\"BFI_41\"]\n",
    "\n",
    "    # calculate the big 5 factors:\n",
    "    df_BFI[\"BFI_extraversion\"] = df_BFI[[\"BFI_1\",\"BFI_6r\",\"BFI_11\",\"BFI_16\",\"BFI_21r\",\"BFI_26\",\"BFI_31\",\"BFI_36\"]].mean(axis=1)\n",
    "    df_BFI[\"BFI_neuroticism\"] = df_BFI[[\"BFI_4\",\"BFI_9r\",\"BFI_14\",\"BFI_24r\",\"BFI_29\",\"BFI_34r\",\"BFI_39\"]].mean(axis=1)\n",
    "    df_BFI[\"BFI_agreeableness\"] = df_BFI[[\"BFI_2r\",\"BFI_7\",\"BFI_12r\",\"BFI_17\",\"BFI_22\",\"BFI_27r\",\"BFI_32\",\"BFI_37r\",\"BFI_42\"]].mean(axis=1)\n",
    "    df_BFI[\"BFI_concientiousness\"] = df_BFI[[\"BFI_3\",\"BFI_8r\",\"BFI_13\",\"BFI_18r\",\"BFI_23r\",\"BFI_28\",\"BFI_33\",\"BFI_38\",\"BFI_43r\"]].mean(axis=1)\n",
    "    df_BFI[\"BFI_openness\"] = df_BFI[[\"BFI_5\",\"BFI_10\",\"BFI_15\",\"BFI_20\",\"BFI_25\",\"BFI_30\",\"BFI_35r\",\"BFI_40\",\"BFI_41r\",\"BFI_44\"]].mean(axis=1)\n",
    "\n",
    "process_BFI()"
   ]
  },
  {
   "cell_type": "markdown",
   "metadata": {},
   "source": [
    "### Process AQ data"
   ]
  },
  {
   "cell_type": "code",
   "execution_count": 175,
   "metadata": {
    "collapsed": false
   },
   "outputs": [],
   "source": [
    "df_AQ  = pd.read_csv('AQ.csv', sep=',')\n",
    "def process_AQ():\n",
    "    # reverse AQ (Autism Spectrum Quotient Questions)\n",
    "    ## http://aspergerstest.net/interpreting-aq-test-results/\n",
    "\n",
    "    df_AQ[\"AQ_3\"] = 5 - df_AQ[\"AQ_3\"]\n",
    "    df_AQ[\"AQ_8\"] = 5 - df_AQ[\"AQ_8\"]\n",
    "    df_AQ[\"AQ_10\"] = 5 - df_AQ[\"AQ_10\"]\n",
    "    df_AQ[\"AQ_11\"] = 5 - df_AQ[\"AQ_11\"]\n",
    "    df_AQ[\"AQ_14\"] = 5 - df_AQ[\"AQ_14\"]\n",
    "    df_AQ[\"AQ_15\"] = 5 - df_AQ[\"AQ_15\"]\n",
    "    df_AQ[\"AQ_17\"] = 5 - df_AQ[\"AQ_17\"]\n",
    "    df_AQ[\"AQ_24\"] = 5 - df_AQ[\"AQ_24\"]\n",
    "    df_AQ[\"AQ_25\"] = 5 - df_AQ[\"AQ_25\"]\n",
    "    df_AQ[\"AQ_27\"] = 5 - df_AQ[\"AQ_27\"]\n",
    "    df_AQ[\"AQ_28\"] = 5 - df_AQ[\"AQ_28\"]\n",
    "    df_AQ[\"AQ_29\"] = 5 - df_AQ[\"AQ_29\"]\n",
    "    df_AQ[\"AQ_30\"] = 5 - df_AQ[\"AQ_30\"]\n",
    "    df_AQ[\"AQ_31\"] = 5 - df_AQ[\"AQ_31\"]\n",
    "    df_AQ[\"AQ_32\"] = 5 - df_AQ[\"AQ_32\"]\n",
    "    df_AQ[\"AQ_34\"] = 5 - df_AQ[\"AQ_34\"]\n",
    "    df_AQ[\"AQ_36\"] = 5 - df_AQ[\"AQ_36\"]\n",
    "    df_AQ[\"AQ_37\"] = 5 - df_AQ[\"AQ_37\"]\n",
    "    df_AQ[\"AQ_38\"] = 5 - df_AQ[\"AQ_38\"]\n",
    "    df_AQ[\"AQ_40\"] = 5 - df_AQ[\"AQ_40\"]\n",
    "    df_AQ[\"AQ_44\"] = 5 - df_AQ[\"AQ_44\"]\n",
    "    df_AQ[\"AQ_47\"] = 5 - df_AQ[\"AQ_47\"]\n",
    "    df_AQ[\"AQ_48\"] = 5 - df_AQ[\"AQ_48\"]\n",
    "    df_AQ[\"AQ_49\"] = 5 - df_AQ[\"AQ_49\"]\n",
    "    df_AQ[\"AQ_50\"] = 5 - df_AQ[\"AQ_50\"]\n",
    "\n",
    "    # Definitely agree or Slightly agree responses to questions 1, 2, 4, 5, 6, 7, 9, 12, 13, 16, 18, 19, 20, 21, 22, 23, 26, 33, 35, 39, 41, 42, 43, 45, 46 score 1 point.\n",
    "    # Definitely disagree or Slightly disagree responses to questions 3, 8, 10, 11, 14, 15, 17, 24, 25, 27, 28, 29, 30, 31, 32, 34, 36, 37, 38, 40, 44, 47, 48, 49, 50 score 1 point.\n",
    "\n",
    "    for column in df_AQ.iloc[:,1:51]:\n",
    "        df_AQ[column] = (df_AQ[column]>2)*1 # Give one point to questions who score less than 3\n",
    "\n",
    "    df_AQ[\"AQ_total\"] = df_AQ.iloc[:,1:51].sum(axis=1)\n",
    "\n",
    "process_AQ()"
   ]
  },
  {
   "cell_type": "markdown",
   "metadata": {},
   "source": [
    "### Create summary dataframe with all the important variables"
   ]
  },
  {
   "cell_type": "code",
   "execution_count": 176,
   "metadata": {
    "collapsed": true
   },
   "outputs": [],
   "source": [
    "def create_df_summary():\n",
    "    # create data frame with the important data\n",
    "    df_summary[\"id\"] = df_AQ[\"id\"]\n",
    "    df_summary[\"demographics_age\"] = df_demographics[\"age\"]\n",
    "    df_summary[\"demographics_gender\"] = df_demographics[\"gender\"]\n",
    "    df_summary[\"demographics_grades\"] = df_demographics[\"grades\"]\n",
    "    df_summary[\"demographics_psychometrics\"] = df_demographics[\"psychometrics\"]\n",
    "    df_summary[\"demographics_control_robot\"] = df_demographics[\"control_robot\"]\n",
    "    df_summary[\"demographics_q1\"] = df_demographics[\"q1\"]\n",
    "    df_summary[\"demographics_q2\"] = df_demographics[\"q2\"]\n",
    "    df_summary[\"demographics_q3\"] = df_demographics[\"q3\"]\n",
    "    df_summary[\"tablet_transition_entropy\"] = df_tablet[\"transition_entropy\"]\n",
    "    df_summary[\"tablet_multi_discipline_entropy\"] = df_tablet[\"Multi_discipline_entropy\"]\n",
    "    df_summary[\"tablet_psycholetrics\"] = df_tablet[\"PSY\"]\n",
    "    df_summary[\"tablet_normalized_total_listenning_time\"] = df_tablet[\"normalized_total_listenning_time\"]\n",
    "    df_summary[\"BFI_extraversion\"] = df_BFI[\"BFI_extraversion\"]\n",
    "    df_summary[\"BFI_neuroticism\"] = df_BFI[\"BFI_neuroticism\"]\n",
    "    df_summary[\"BFI_agreeableness\"] = df_BFI[\"BFI_agreeableness\"]\n",
    "    df_summary[\"BFI_concientiousness\"] = df_BFI[\"BFI_concientiousness\"]\n",
    "    df_summary[\"BFI_openness\"] = df_BFI[\"BFI_openness\"]\n",
    "    df_summary[\"AQ_total\"] = df_AQ[\"AQ_total\"]\n",
    "    #print(df_summary)\n",
    "\n",
    "create_df_summary()"
   ]
  },
  {
   "cell_type": "markdown",
   "metadata": {},
   "source": [
    "General description of the data:"
   ]
  },
  {
   "cell_type": "code",
   "execution_count": 177,
   "metadata": {
    "collapsed": false,
    "scrolled": true
   },
   "outputs": [
    {
     "data": {
      "text/html": [
       "<div>\n",
       "<table border=\"1\" class=\"dataframe\">\n",
       "  <thead>\n",
       "    <tr style=\"text-align: right;\">\n",
       "      <th></th>\n",
       "      <th>count</th>\n",
       "      <th>mean</th>\n",
       "      <th>std</th>\n",
       "      <th>min</th>\n",
       "      <th>25%</th>\n",
       "      <th>50%</th>\n",
       "      <th>75%</th>\n",
       "      <th>max</th>\n",
       "    </tr>\n",
       "  </thead>\n",
       "  <tbody>\n",
       "    <tr>\n",
       "      <th>id</th>\n",
       "      <td>49</td>\n",
       "      <td>36.265306</td>\n",
       "      <td>25.487559</td>\n",
       "      <td>1.000000</td>\n",
       "      <td>13.000000</td>\n",
       "      <td>25.000000</td>\n",
       "      <td>61.000000</td>\n",
       "      <td>73.000000</td>\n",
       "    </tr>\n",
       "    <tr>\n",
       "      <th>demographics_age</th>\n",
       "      <td>49</td>\n",
       "      <td>23.081633</td>\n",
       "      <td>2.921449</td>\n",
       "      <td>18.000000</td>\n",
       "      <td>20.000000</td>\n",
       "      <td>24.000000</td>\n",
       "      <td>25.000000</td>\n",
       "      <td>29.000000</td>\n",
       "    </tr>\n",
       "    <tr>\n",
       "      <th>demographics_gender</th>\n",
       "      <td>49</td>\n",
       "      <td>0.551020</td>\n",
       "      <td>0.502545</td>\n",
       "      <td>0.000000</td>\n",
       "      <td>0.000000</td>\n",
       "      <td>1.000000</td>\n",
       "      <td>1.000000</td>\n",
       "      <td>1.000000</td>\n",
       "    </tr>\n",
       "    <tr>\n",
       "      <th>demographics_grades</th>\n",
       "      <td>47</td>\n",
       "      <td>84.214894</td>\n",
       "      <td>8.123743</td>\n",
       "      <td>60.000000</td>\n",
       "      <td>80.000000</td>\n",
       "      <td>85.000000</td>\n",
       "      <td>90.000000</td>\n",
       "      <td>99.200000</td>\n",
       "    </tr>\n",
       "    <tr>\n",
       "      <th>demographics_psychometrics</th>\n",
       "      <td>47</td>\n",
       "      <td>690.468085</td>\n",
       "      <td>43.652208</td>\n",
       "      <td>588.000000</td>\n",
       "      <td>658.500000</td>\n",
       "      <td>693.000000</td>\n",
       "      <td>730.000000</td>\n",
       "      <td>783.000000</td>\n",
       "    </tr>\n",
       "    <tr>\n",
       "      <th>demographics_control_robot</th>\n",
       "      <td>46</td>\n",
       "      <td>0.586957</td>\n",
       "      <td>0.497821</td>\n",
       "      <td>0.000000</td>\n",
       "      <td>0.000000</td>\n",
       "      <td>1.000000</td>\n",
       "      <td>1.000000</td>\n",
       "      <td>1.000000</td>\n",
       "    </tr>\n",
       "    <tr>\n",
       "      <th>demographics_q1</th>\n",
       "      <td>48</td>\n",
       "      <td>2.645833</td>\n",
       "      <td>0.699227</td>\n",
       "      <td>1.000000</td>\n",
       "      <td>2.000000</td>\n",
       "      <td>3.000000</td>\n",
       "      <td>3.000000</td>\n",
       "      <td>4.000000</td>\n",
       "    </tr>\n",
       "    <tr>\n",
       "      <th>demographics_q2</th>\n",
       "      <td>47</td>\n",
       "      <td>3.127660</td>\n",
       "      <td>1.153766</td>\n",
       "      <td>1.000000</td>\n",
       "      <td>2.000000</td>\n",
       "      <td>4.000000</td>\n",
       "      <td>4.000000</td>\n",
       "      <td>5.000000</td>\n",
       "    </tr>\n",
       "    <tr>\n",
       "      <th>demographics_q3</th>\n",
       "      <td>48</td>\n",
       "      <td>3.187500</td>\n",
       "      <td>0.673392</td>\n",
       "      <td>1.000000</td>\n",
       "      <td>3.000000</td>\n",
       "      <td>3.000000</td>\n",
       "      <td>4.000000</td>\n",
       "      <td>4.000000</td>\n",
       "    </tr>\n",
       "    <tr>\n",
       "      <th>tablet_transition_entropy</th>\n",
       "      <td>48</td>\n",
       "      <td>0.936846</td>\n",
       "      <td>0.131638</td>\n",
       "      <td>0.432932</td>\n",
       "      <td>1.000000</td>\n",
       "      <td>1.000000</td>\n",
       "      <td>1.000000</td>\n",
       "      <td>1.000000</td>\n",
       "    </tr>\n",
       "    <tr>\n",
       "      <th>tablet_multi_discipline_entropy</th>\n",
       "      <td>48</td>\n",
       "      <td>0.951468</td>\n",
       "      <td>0.064568</td>\n",
       "      <td>0.646374</td>\n",
       "      <td>0.954001</td>\n",
       "      <td>0.976474</td>\n",
       "      <td>0.986714</td>\n",
       "      <td>0.999010</td>\n",
       "    </tr>\n",
       "    <tr>\n",
       "      <th>tablet_psycholetrics</th>\n",
       "      <td>46</td>\n",
       "      <td>692.000000</td>\n",
       "      <td>42.838197</td>\n",
       "      <td>588.000000</td>\n",
       "      <td>661.250000</td>\n",
       "      <td>693.500000</td>\n",
       "      <td>730.000000</td>\n",
       "      <td>783.000000</td>\n",
       "    </tr>\n",
       "    <tr>\n",
       "      <th>tablet_normalized_total_listenning_time</th>\n",
       "      <td>28</td>\n",
       "      <td>0.767168</td>\n",
       "      <td>0.119302</td>\n",
       "      <td>0.452830</td>\n",
       "      <td>0.724138</td>\n",
       "      <td>0.788148</td>\n",
       "      <td>0.854261</td>\n",
       "      <td>0.928571</td>\n",
       "    </tr>\n",
       "    <tr>\n",
       "      <th>BFI_extraversion</th>\n",
       "      <td>49</td>\n",
       "      <td>3.328353</td>\n",
       "      <td>0.529136</td>\n",
       "      <td>2.125000</td>\n",
       "      <td>3.000000</td>\n",
       "      <td>3.375000</td>\n",
       "      <td>3.750000</td>\n",
       "      <td>4.375000</td>\n",
       "    </tr>\n",
       "    <tr>\n",
       "      <th>BFI_neuroticism</th>\n",
       "      <td>49</td>\n",
       "      <td>2.679300</td>\n",
       "      <td>0.512207</td>\n",
       "      <td>1.857143</td>\n",
       "      <td>2.285714</td>\n",
       "      <td>2.714286</td>\n",
       "      <td>3.000000</td>\n",
       "      <td>3.857143</td>\n",
       "    </tr>\n",
       "    <tr>\n",
       "      <th>BFI_agreeableness</th>\n",
       "      <td>49</td>\n",
       "      <td>3.727891</td>\n",
       "      <td>0.551868</td>\n",
       "      <td>2.333333</td>\n",
       "      <td>3.444444</td>\n",
       "      <td>3.777778</td>\n",
       "      <td>4.222222</td>\n",
       "      <td>4.555556</td>\n",
       "    </tr>\n",
       "    <tr>\n",
       "      <th>BFI_concientiousness</th>\n",
       "      <td>49</td>\n",
       "      <td>3.770692</td>\n",
       "      <td>0.616676</td>\n",
       "      <td>2.000000</td>\n",
       "      <td>3.444444</td>\n",
       "      <td>3.777778</td>\n",
       "      <td>4.111111</td>\n",
       "      <td>5.000000</td>\n",
       "    </tr>\n",
       "    <tr>\n",
       "      <th>BFI_openness</th>\n",
       "      <td>49</td>\n",
       "      <td>3.553061</td>\n",
       "      <td>0.624200</td>\n",
       "      <td>2.100000</td>\n",
       "      <td>3.200000</td>\n",
       "      <td>3.500000</td>\n",
       "      <td>4.000000</td>\n",
       "      <td>4.800000</td>\n",
       "    </tr>\n",
       "    <tr>\n",
       "      <th>AQ_total</th>\n",
       "      <td>49</td>\n",
       "      <td>17.244898</td>\n",
       "      <td>5.072518</td>\n",
       "      <td>9.000000</td>\n",
       "      <td>13.000000</td>\n",
       "      <td>18.000000</td>\n",
       "      <td>21.000000</td>\n",
       "      <td>29.000000</td>\n",
       "    </tr>\n",
       "  </tbody>\n",
       "</table>\n",
       "</div>"
      ],
      "text/plain": [
       "                                         count        mean        std  \\\n",
       "id                                          49   36.265306  25.487559   \n",
       "demographics_age                            49   23.081633   2.921449   \n",
       "demographics_gender                         49    0.551020   0.502545   \n",
       "demographics_grades                         47   84.214894   8.123743   \n",
       "demographics_psychometrics                  47  690.468085  43.652208   \n",
       "demographics_control_robot                  46    0.586957   0.497821   \n",
       "demographics_q1                             48    2.645833   0.699227   \n",
       "demographics_q2                             47    3.127660   1.153766   \n",
       "demographics_q3                             48    3.187500   0.673392   \n",
       "tablet_transition_entropy                   48    0.936846   0.131638   \n",
       "tablet_multi_discipline_entropy             48    0.951468   0.064568   \n",
       "tablet_psycholetrics                        46  692.000000  42.838197   \n",
       "tablet_normalized_total_listenning_time     28    0.767168   0.119302   \n",
       "BFI_extraversion                            49    3.328353   0.529136   \n",
       "BFI_neuroticism                             49    2.679300   0.512207   \n",
       "BFI_agreeableness                           49    3.727891   0.551868   \n",
       "BFI_concientiousness                        49    3.770692   0.616676   \n",
       "BFI_openness                                49    3.553061   0.624200   \n",
       "AQ_total                                    49   17.244898   5.072518   \n",
       "\n",
       "                                                min         25%         50%  \\\n",
       "id                                         1.000000   13.000000   25.000000   \n",
       "demographics_age                          18.000000   20.000000   24.000000   \n",
       "demographics_gender                        0.000000    0.000000    1.000000   \n",
       "demographics_grades                       60.000000   80.000000   85.000000   \n",
       "demographics_psychometrics               588.000000  658.500000  693.000000   \n",
       "demographics_control_robot                 0.000000    0.000000    1.000000   \n",
       "demographics_q1                            1.000000    2.000000    3.000000   \n",
       "demographics_q2                            1.000000    2.000000    4.000000   \n",
       "demographics_q3                            1.000000    3.000000    3.000000   \n",
       "tablet_transition_entropy                  0.432932    1.000000    1.000000   \n",
       "tablet_multi_discipline_entropy            0.646374    0.954001    0.976474   \n",
       "tablet_psycholetrics                     588.000000  661.250000  693.500000   \n",
       "tablet_normalized_total_listenning_time    0.452830    0.724138    0.788148   \n",
       "BFI_extraversion                           2.125000    3.000000    3.375000   \n",
       "BFI_neuroticism                            1.857143    2.285714    2.714286   \n",
       "BFI_agreeableness                          2.333333    3.444444    3.777778   \n",
       "BFI_concientiousness                       2.000000    3.444444    3.777778   \n",
       "BFI_openness                               2.100000    3.200000    3.500000   \n",
       "AQ_total                                   9.000000   13.000000   18.000000   \n",
       "\n",
       "                                                75%         max  \n",
       "id                                        61.000000   73.000000  \n",
       "demographics_age                          25.000000   29.000000  \n",
       "demographics_gender                        1.000000    1.000000  \n",
       "demographics_grades                       90.000000   99.200000  \n",
       "demographics_psychometrics               730.000000  783.000000  \n",
       "demographics_control_robot                 1.000000    1.000000  \n",
       "demographics_q1                            3.000000    4.000000  \n",
       "demographics_q2                            4.000000    5.000000  \n",
       "demographics_q3                            4.000000    4.000000  \n",
       "tablet_transition_entropy                  1.000000    1.000000  \n",
       "tablet_multi_discipline_entropy            0.986714    0.999010  \n",
       "tablet_psycholetrics                     730.000000  783.000000  \n",
       "tablet_normalized_total_listenning_time    0.854261    0.928571  \n",
       "BFI_extraversion                           3.750000    4.375000  \n",
       "BFI_neuroticism                            3.000000    3.857143  \n",
       "BFI_agreeableness                          4.222222    4.555556  \n",
       "BFI_concientiousness                       4.111111    5.000000  \n",
       "BFI_openness                               4.000000    4.800000  \n",
       "AQ_total                                  21.000000   29.000000  "
      ]
     },
     "execution_count": 177,
     "metadata": {},
     "output_type": "execute_result"
    }
   ],
   "source": [
    "df_summary.describe().T"
   ]
  },
  {
   "cell_type": "markdown",
   "metadata": {},
   "source": [
    "count males (1) and females (0):"
   ]
  },
  {
   "cell_type": "code",
   "execution_count": 178,
   "metadata": {
    "collapsed": false
   },
   "outputs": [
    {
     "data": {
      "text/plain": [
       "1    27\n",
       "0    22\n",
       "dtype: int64"
      ]
     },
     "execution_count": 178,
     "metadata": {},
     "output_type": "execute_result"
    }
   ],
   "source": [
    "df_summary[\"demographics_gender\"].value_counts()"
   ]
  },
  {
   "cell_type": "markdown",
   "metadata": {},
   "source": [
    "## Plots"
   ]
  },
  {
   "cell_type": "markdown",
   "metadata": {},
   "source": [
    "### Plot Histograms"
   ]
  },
  {
   "cell_type": "code",
   "execution_count": 179,
   "metadata": {
    "collapsed": false
   },
   "outputs": [],
   "source": [
    "def plot_histogram (x):\n",
    "    \n",
    "    # n, bins, patches = plt.hist(x, 50, normed=1, facecolor='green', alpha=1)\n",
    "    n, bins, patches = plt.hist(x, 10, facecolor='blue', alpha=1)\n",
    "    plt.xlabel(x.name)\n",
    "    plt.ylabel('count')\n",
    "    plt.title(x.name + \" histogram\")\n",
    "    #plt.axis([40, 160, 0, 0.03])\n",
    "    plt.grid(True)\n",
    "    plt.show()"
   ]
  },
  {
   "cell_type": "markdown",
   "metadata": {},
   "source": [
    "plot_histogram_by_gender(df_summary[\"AQ_total\"]):"
   ]
  },
  {
   "cell_type": "code",
   "execution_count": 225,
   "metadata": {
    "collapsed": false
   },
   "outputs": [
    {
     "data": {
      "text/plain": [
       "array([<matplotlib.axes._subplots.AxesSubplot object at 0x1092f1d50>,\n",
       "       <matplotlib.axes._subplots.AxesSubplot object at 0x10b56b650>], dtype=object)"
      ]
     },
     "execution_count": 225,
     "metadata": {},
     "output_type": "execute_result"
    },
    {
     "data": {
      "image/png": "[encoded data removed]",
      "text/plain": [
       "<matplotlib.figure.Figure at 0x10b7a7250>"
      ]
     },
     "metadata": {},
     "output_type": "display_data"
    }
   ],
   "source": [
    "df_summary[\"AQ_total\"].hist(by=df_summary[\"demographics_gender\"],stacked=True)"
   ]
  },
  {
   "cell_type": "code",
   "execution_count": 223,
   "metadata": {
    "collapsed": false
   },
   "outputs": [
    {
     "data": {
      "image/png": "[encoded data removed]",
      "text/plain": [
       "<matplotlib.figure.Figure at 0x10bb38c90>"
      ]
     },
     "metadata": {},
     "output_type": "display_data"
    }
   ],
   "source": [
    "plot_histogram(df_summary[\"demographics_age\"])"
   ]
  },
  {
   "cell_type": "code",
   "execution_count": 181,
   "metadata": {
    "collapsed": false
   },
   "outputs": [
    {
     "data": {
      "image/png": "[encoded data removed]",
      "text/plain": [
       "<matplotlib.figure.Figure at 0x107e18650>"
      ]
     },
     "metadata": {},
     "output_type": "display_data"
    }
   ],
   "source": [
    "plot_histogram(df_summary[\"AQ_total\"])"
   ]
  },
  {
   "cell_type": "code",
   "execution_count": 182,
   "metadata": {
    "collapsed": false
   },
   "outputs": [
    {
     "data": {
      "image/png": "[encoded data removed]",
      "text/plain": [
       "<matplotlib.figure.Figure at 0x107df5c10>"
      ]
     },
     "metadata": {},
     "output_type": "display_data"
    }
   ],
   "source": [
    "plot_histogram(df_summary[\"BFI_extraversion\"])"
   ]
  },
  {
   "cell_type": "code",
   "execution_count": 183,
   "metadata": {
    "collapsed": false
   },
   "outputs": [
    {
     "data": {
      "image/png": "[encoded data removed]",
      "text/plain": [
       "<matplotlib.figure.Figure at 0x107df5c90>"
      ]
     },
     "metadata": {},
     "output_type": "display_data"
    }
   ],
   "source": [
    "plot_histogram(df_summary[\"BFI_neuroticism\"])"
   ]
  },
  {
   "cell_type": "code",
   "execution_count": 130,
   "metadata": {
    "collapsed": false
   },
   "outputs": [
    {
     "data": {
      "image/png": "[encoded data removed]",
      "text/plain": [
       "<matplotlib.figure.Figure at 0x107dee6d0>"
      ]
     },
     "metadata": {},
     "output_type": "display_data"
    }
   ],
   "source": [
    "plot_histogram(df_summary[\"BFI_agreeableness\"])"
   ]
  },
  {
   "cell_type": "code",
   "execution_count": 132,
   "metadata": {
    "collapsed": false
   },
   "outputs": [
    {
     "data": {
      "image/png": "[encoded data removed]",
      "text/plain": [
       "<matplotlib.figure.Figure at 0x107888190>"
      ]
     },
     "metadata": {},
     "output_type": "display_data"
    }
   ],
   "source": [
    "plot_histogram(df_summary[\"BFI_concientiousness\"])"
   ]
  },
  {
   "cell_type": "code",
   "execution_count": 133,
   "metadata": {
    "collapsed": false
   },
   "outputs": [
    {
     "data": {
      "image/png": "[encoded data removed]",
      "text/plain": [
       "<matplotlib.figure.Figure at 0x107888290>"
      ]
     },
     "metadata": {},
     "output_type": "display_data"
    }
   ],
   "source": [
    "plot_histogram(df_summary[\"BFI_openness\"])"
   ]
  },
  {
   "cell_type": "markdown",
   "metadata": {},
   "source": [
    "### Plot correlation matrix"
   ]
  },
  {
   "cell_type": "code",
   "execution_count": 184,
   "metadata": {
    "collapsed": false
   },
   "outputs": [
    {
     "data": {
      "text/html": [
       "<div>\n",
       "<table border=\"1\" class=\"dataframe\">\n",
       "  <thead>\n",
       "    <tr style=\"text-align: right;\">\n",
       "      <th></th>\n",
       "      <th>id</th>\n",
       "      <th>demographics_age</th>\n",
       "      <th>demographics_gender</th>\n",
       "      <th>demographics_grades</th>\n",
       "      <th>demographics_psychometrics</th>\n",
       "      <th>demographics_control_robot</th>\n",
       "      <th>demographics_q1</th>\n",
       "      <th>demographics_q2</th>\n",
       "      <th>demographics_q3</th>\n",
       "      <th>tablet_transition_entropy</th>\n",
       "      <th>tablet_multi_discipline_entropy</th>\n",
       "      <th>tablet_psycholetrics</th>\n",
       "      <th>tablet_normalized_total_listenning_time</th>\n",
       "      <th>BFI_extraversion</th>\n",
       "      <th>BFI_neuroticism</th>\n",
       "      <th>BFI_agreeableness</th>\n",
       "      <th>BFI_concientiousness</th>\n",
       "      <th>BFI_openness</th>\n",
       "      <th>AQ_total</th>\n",
       "    </tr>\n",
       "  </thead>\n",
       "  <tbody>\n",
       "    <tr>\n",
       "      <th>id</th>\n",
       "      <td>1.000000</td>\n",
       "      <td>-0.193632</td>\n",
       "      <td>-0.034422</td>\n",
       "      <td>0.286999</td>\n",
       "      <td>-0.065059</td>\n",
       "      <td>0.044678</td>\n",
       "      <td>0.113226</td>\n",
       "      <td>-0.079796</td>\n",
       "      <td>-0.195813</td>\n",
       "      <td>-0.089798</td>\n",
       "      <td>0.061083</td>\n",
       "      <td>-0.025442</td>\n",
       "      <td>0.307347</td>\n",
       "      <td>0.443154</td>\n",
       "      <td>0.050652</td>\n",
       "      <td>0.303606</td>\n",
       "      <td>0.235174</td>\n",
       "      <td>0.182165</td>\n",
       "      <td>-0.166650</td>\n",
       "    </tr>\n",
       "    <tr>\n",
       "      <th>demographics_age</th>\n",
       "      <td>-0.193632</td>\n",
       "      <td>1.000000</td>\n",
       "      <td>-0.002896</td>\n",
       "      <td>0.064535</td>\n",
       "      <td>0.085412</td>\n",
       "      <td>0.005318</td>\n",
       "      <td>-0.152576</td>\n",
       "      <td>0.040379</td>\n",
       "      <td>0.052059</td>\n",
       "      <td>0.252307</td>\n",
       "      <td>0.235923</td>\n",
       "      <td>0.098751</td>\n",
       "      <td>-0.113573</td>\n",
       "      <td>-0.090380</td>\n",
       "      <td>0.057638</td>\n",
       "      <td>-0.207043</td>\n",
       "      <td>-0.004651</td>\n",
       "      <td>0.102680</td>\n",
       "      <td>0.112496</td>\n",
       "    </tr>\n",
       "    <tr>\n",
       "      <th>demographics_gender</th>\n",
       "      <td>-0.034422</td>\n",
       "      <td>-0.002896</td>\n",
       "      <td>1.000000</td>\n",
       "      <td>-0.094292</td>\n",
       "      <td>0.283671</td>\n",
       "      <td>0.154892</td>\n",
       "      <td>0.094838</td>\n",
       "      <td>-0.161940</td>\n",
       "      <td>0.122111</td>\n",
       "      <td>-0.206568</td>\n",
       "      <td>-0.317013</td>\n",
       "      <td>0.256485</td>\n",
       "      <td>0.110184</td>\n",
       "      <td>-0.106983</td>\n",
       "      <td>-0.362912</td>\n",
       "      <td>0.051101</td>\n",
       "      <td>-0.091709</td>\n",
       "      <td>0.230281</td>\n",
       "      <td>-0.111248</td>\n",
       "    </tr>\n",
       "    <tr>\n",
       "      <th>demographics_grades</th>\n",
       "      <td>0.286999</td>\n",
       "      <td>0.064535</td>\n",
       "      <td>-0.094292</td>\n",
       "      <td>1.000000</td>\n",
       "      <td>0.190626</td>\n",
       "      <td>-0.031851</td>\n",
       "      <td>-0.041353</td>\n",
       "      <td>-0.339161</td>\n",
       "      <td>-0.255739</td>\n",
       "      <td>-0.064922</td>\n",
       "      <td>-0.090936</td>\n",
       "      <td>0.247656</td>\n",
       "      <td>0.140141</td>\n",
       "      <td>0.372329</td>\n",
       "      <td>0.076226</td>\n",
       "      <td>-0.056362</td>\n",
       "      <td>0.310556</td>\n",
       "      <td>0.081494</td>\n",
       "      <td>-0.063786</td>\n",
       "    </tr>\n",
       "    <tr>\n",
       "      <th>demographics_psychometrics</th>\n",
       "      <td>-0.065059</td>\n",
       "      <td>0.085412</td>\n",
       "      <td>0.283671</td>\n",
       "      <td>0.190626</td>\n",
       "      <td>1.000000</td>\n",
       "      <td>0.044250</td>\n",
       "      <td>-0.115517</td>\n",
       "      <td>-0.386462</td>\n",
       "      <td>-0.227908</td>\n",
       "      <td>-0.169727</td>\n",
       "      <td>-0.184063</td>\n",
       "      <td>1.000000</td>\n",
       "      <td>-0.089595</td>\n",
       "      <td>0.010392</td>\n",
       "      <td>0.005423</td>\n",
       "      <td>-0.128660</td>\n",
       "      <td>-0.246980</td>\n",
       "      <td>-0.015537</td>\n",
       "      <td>-0.075549</td>\n",
       "    </tr>\n",
       "    <tr>\n",
       "      <th>demographics_control_robot</th>\n",
       "      <td>0.044678</td>\n",
       "      <td>0.005318</td>\n",
       "      <td>0.154892</td>\n",
       "      <td>-0.031851</td>\n",
       "      <td>0.044250</td>\n",
       "      <td>1.000000</td>\n",
       "      <td>0.497022</td>\n",
       "      <td>-0.101131</td>\n",
       "      <td>0.262260</td>\n",
       "      <td>-0.238999</td>\n",
       "      <td>-0.117255</td>\n",
       "      <td>0.077394</td>\n",
       "      <td>0.094298</td>\n",
       "      <td>0.187738</td>\n",
       "      <td>-0.177709</td>\n",
       "      <td>0.078981</td>\n",
       "      <td>0.136894</td>\n",
       "      <td>0.116708</td>\n",
       "      <td>0.007276</td>\n",
       "    </tr>\n",
       "    <tr>\n",
       "      <th>demographics_q1</th>\n",
       "      <td>0.113226</td>\n",
       "      <td>-0.152576</td>\n",
       "      <td>0.094838</td>\n",
       "      <td>-0.041353</td>\n",
       "      <td>-0.115517</td>\n",
       "      <td>0.497022</td>\n",
       "      <td>1.000000</td>\n",
       "      <td>-0.106491</td>\n",
       "      <td>0.189222</td>\n",
       "      <td>-0.014478</td>\n",
       "      <td>0.078764</td>\n",
       "      <td>-0.101890</td>\n",
       "      <td>0.019813</td>\n",
       "      <td>0.076895</td>\n",
       "      <td>-0.278838</td>\n",
       "      <td>-0.038859</td>\n",
       "      <td>-0.023255</td>\n",
       "      <td>0.094278</td>\n",
       "      <td>-0.010388</td>\n",
       "    </tr>\n",
       "    <tr>\n",
       "      <th>demographics_q2</th>\n",
       "      <td>-0.079796</td>\n",
       "      <td>0.040379</td>\n",
       "      <td>-0.161940</td>\n",
       "      <td>-0.339161</td>\n",
       "      <td>-0.386462</td>\n",
       "      <td>-0.101131</td>\n",
       "      <td>-0.106491</td>\n",
       "      <td>1.000000</td>\n",
       "      <td>0.280699</td>\n",
       "      <td>0.122739</td>\n",
       "      <td>0.170439</td>\n",
       "      <td>-0.373046</td>\n",
       "      <td>-0.103084</td>\n",
       "      <td>-0.152166</td>\n",
       "      <td>0.066227</td>\n",
       "      <td>-0.053439</td>\n",
       "      <td>0.116887</td>\n",
       "      <td>-0.003171</td>\n",
       "      <td>-0.007484</td>\n",
       "    </tr>\n",
       "    <tr>\n",
       "      <th>demographics_q3</th>\n",
       "      <td>-0.195813</td>\n",
       "      <td>0.052059</td>\n",
       "      <td>0.122111</td>\n",
       "      <td>-0.255739</td>\n",
       "      <td>-0.227908</td>\n",
       "      <td>0.262260</td>\n",
       "      <td>0.189222</td>\n",
       "      <td>0.280699</td>\n",
       "      <td>1.000000</td>\n",
       "      <td>0.019684</td>\n",
       "      <td>-0.132100</td>\n",
       "      <td>-0.244576</td>\n",
       "      <td>0.035835</td>\n",
       "      <td>0.040098</td>\n",
       "      <td>-0.323375</td>\n",
       "      <td>0.103643</td>\n",
       "      <td>0.340009</td>\n",
       "      <td>0.126224</td>\n",
       "      <td>-0.180291</td>\n",
       "    </tr>\n",
       "    <tr>\n",
       "      <th>tablet_transition_entropy</th>\n",
       "      <td>-0.089798</td>\n",
       "      <td>0.252307</td>\n",
       "      <td>-0.206568</td>\n",
       "      <td>-0.064922</td>\n",
       "      <td>-0.169727</td>\n",
       "      <td>-0.238999</td>\n",
       "      <td>-0.014478</td>\n",
       "      <td>0.122739</td>\n",
       "      <td>0.019684</td>\n",
       "      <td>1.000000</td>\n",
       "      <td>0.419909</td>\n",
       "      <td>-0.169727</td>\n",
       "      <td>-0.174142</td>\n",
       "      <td>-0.150833</td>\n",
       "      <td>0.189195</td>\n",
       "      <td>-0.065902</td>\n",
       "      <td>-0.102365</td>\n",
       "      <td>0.046546</td>\n",
       "      <td>-0.053024</td>\n",
       "    </tr>\n",
       "    <tr>\n",
       "      <th>tablet_multi_discipline_entropy</th>\n",
       "      <td>0.061083</td>\n",
       "      <td>0.235923</td>\n",
       "      <td>-0.317013</td>\n",
       "      <td>-0.090936</td>\n",
       "      <td>-0.184063</td>\n",
       "      <td>-0.117255</td>\n",
       "      <td>0.078764</td>\n",
       "      <td>0.170439</td>\n",
       "      <td>-0.132100</td>\n",
       "      <td>0.419909</td>\n",
       "      <td>1.000000</td>\n",
       "      <td>-0.184063</td>\n",
       "      <td>-0.015407</td>\n",
       "      <td>-0.004439</td>\n",
       "      <td>0.290090</td>\n",
       "      <td>-0.037042</td>\n",
       "      <td>-0.096997</td>\n",
       "      <td>0.144087</td>\n",
       "      <td>0.141746</td>\n",
       "    </tr>\n",
       "    <tr>\n",
       "      <th>tablet_psycholetrics</th>\n",
       "      <td>-0.025442</td>\n",
       "      <td>0.098751</td>\n",
       "      <td>0.256485</td>\n",
       "      <td>0.247656</td>\n",
       "      <td>1.000000</td>\n",
       "      <td>0.077394</td>\n",
       "      <td>-0.101890</td>\n",
       "      <td>-0.373046</td>\n",
       "      <td>-0.244576</td>\n",
       "      <td>-0.169727</td>\n",
       "      <td>-0.184063</td>\n",
       "      <td>1.000000</td>\n",
       "      <td>-0.089595</td>\n",
       "      <td>0.039711</td>\n",
       "      <td>0.028608</td>\n",
       "      <td>-0.136297</td>\n",
       "      <td>-0.216659</td>\n",
       "      <td>-0.012785</td>\n",
       "      <td>-0.093808</td>\n",
       "    </tr>\n",
       "    <tr>\n",
       "      <th>tablet_normalized_total_listenning_time</th>\n",
       "      <td>0.307347</td>\n",
       "      <td>-0.113573</td>\n",
       "      <td>0.110184</td>\n",
       "      <td>0.140141</td>\n",
       "      <td>-0.089595</td>\n",
       "      <td>0.094298</td>\n",
       "      <td>0.019813</td>\n",
       "      <td>-0.103084</td>\n",
       "      <td>0.035835</td>\n",
       "      <td>-0.174142</td>\n",
       "      <td>-0.015407</td>\n",
       "      <td>-0.089595</td>\n",
       "      <td>1.000000</td>\n",
       "      <td>0.468538</td>\n",
       "      <td>0.031266</td>\n",
       "      <td>-0.290516</td>\n",
       "      <td>0.391827</td>\n",
       "      <td>0.273811</td>\n",
       "      <td>0.426806</td>\n",
       "    </tr>\n",
       "    <tr>\n",
       "      <th>BFI_extraversion</th>\n",
       "      <td>0.443154</td>\n",
       "      <td>-0.090380</td>\n",
       "      <td>-0.106983</td>\n",
       "      <td>0.372329</td>\n",
       "      <td>0.010392</td>\n",
       "      <td>0.187738</td>\n",
       "      <td>0.076895</td>\n",
       "      <td>-0.152166</td>\n",
       "      <td>0.040098</td>\n",
       "      <td>-0.150833</td>\n",
       "      <td>-0.004439</td>\n",
       "      <td>0.039711</td>\n",
       "      <td>0.468538</td>\n",
       "      <td>1.000000</td>\n",
       "      <td>-0.018893</td>\n",
       "      <td>0.256290</td>\n",
       "      <td>0.134829</td>\n",
       "      <td>0.343645</td>\n",
       "      <td>-0.132181</td>\n",
       "    </tr>\n",
       "    <tr>\n",
       "      <th>BFI_neuroticism</th>\n",
       "      <td>0.050652</td>\n",
       "      <td>0.057638</td>\n",
       "      <td>-0.362912</td>\n",
       "      <td>0.076226</td>\n",
       "      <td>0.005423</td>\n",
       "      <td>-0.177709</td>\n",
       "      <td>-0.278838</td>\n",
       "      <td>0.066227</td>\n",
       "      <td>-0.323375</td>\n",
       "      <td>0.189195</td>\n",
       "      <td>0.290090</td>\n",
       "      <td>0.028608</td>\n",
       "      <td>0.031266</td>\n",
       "      <td>-0.018893</td>\n",
       "      <td>1.000000</td>\n",
       "      <td>-0.292921</td>\n",
       "      <td>-0.121459</td>\n",
       "      <td>0.004065</td>\n",
       "      <td>0.506237</td>\n",
       "    </tr>\n",
       "    <tr>\n",
       "      <th>BFI_agreeableness</th>\n",
       "      <td>0.303606</td>\n",
       "      <td>-0.207043</td>\n",
       "      <td>0.051101</td>\n",
       "      <td>-0.056362</td>\n",
       "      <td>-0.128660</td>\n",
       "      <td>0.078981</td>\n",
       "      <td>-0.038859</td>\n",
       "      <td>-0.053439</td>\n",
       "      <td>0.103643</td>\n",
       "      <td>-0.065902</td>\n",
       "      <td>-0.037042</td>\n",
       "      <td>-0.136297</td>\n",
       "      <td>-0.290516</td>\n",
       "      <td>0.256290</td>\n",
       "      <td>-0.292921</td>\n",
       "      <td>1.000000</td>\n",
       "      <td>0.162844</td>\n",
       "      <td>-0.004923</td>\n",
       "      <td>-0.381711</td>\n",
       "    </tr>\n",
       "    <tr>\n",
       "      <th>BFI_concientiousness</th>\n",
       "      <td>0.235174</td>\n",
       "      <td>-0.004651</td>\n",
       "      <td>-0.091709</td>\n",
       "      <td>0.310556</td>\n",
       "      <td>-0.246980</td>\n",
       "      <td>0.136894</td>\n",
       "      <td>-0.023255</td>\n",
       "      <td>0.116887</td>\n",
       "      <td>0.340009</td>\n",
       "      <td>-0.102365</td>\n",
       "      <td>-0.096997</td>\n",
       "      <td>-0.216659</td>\n",
       "      <td>0.391827</td>\n",
       "      <td>0.134829</td>\n",
       "      <td>-0.121459</td>\n",
       "      <td>0.162844</td>\n",
       "      <td>1.000000</td>\n",
       "      <td>0.366324</td>\n",
       "      <td>-0.085367</td>\n",
       "    </tr>\n",
       "    <tr>\n",
       "      <th>BFI_openness</th>\n",
       "      <td>0.182165</td>\n",
       "      <td>0.102680</td>\n",
       "      <td>0.230281</td>\n",
       "      <td>0.081494</td>\n",
       "      <td>-0.015537</td>\n",
       "      <td>0.116708</td>\n",
       "      <td>0.094278</td>\n",
       "      <td>-0.003171</td>\n",
       "      <td>0.126224</td>\n",
       "      <td>0.046546</td>\n",
       "      <td>0.144087</td>\n",
       "      <td>-0.012785</td>\n",
       "      <td>0.273811</td>\n",
       "      <td>0.343645</td>\n",
       "      <td>0.004065</td>\n",
       "      <td>-0.004923</td>\n",
       "      <td>0.366324</td>\n",
       "      <td>1.000000</td>\n",
       "      <td>0.036605</td>\n",
       "    </tr>\n",
       "    <tr>\n",
       "      <th>AQ_total</th>\n",
       "      <td>-0.166650</td>\n",
       "      <td>0.112496</td>\n",
       "      <td>-0.111248</td>\n",
       "      <td>-0.063786</td>\n",
       "      <td>-0.075549</td>\n",
       "      <td>0.007276</td>\n",
       "      <td>-0.010388</td>\n",
       "      <td>-0.007484</td>\n",
       "      <td>-0.180291</td>\n",
       "      <td>-0.053024</td>\n",
       "      <td>0.141746</td>\n",
       "      <td>-0.093808</td>\n",
       "      <td>0.426806</td>\n",
       "      <td>-0.132181</td>\n",
       "      <td>0.506237</td>\n",
       "      <td>-0.381711</td>\n",
       "      <td>-0.085367</td>\n",
       "      <td>0.036605</td>\n",
       "      <td>1.000000</td>\n",
       "    </tr>\n",
       "  </tbody>\n",
       "</table>\n",
       "</div>"
      ],
      "text/plain": [
       "                                               id  demographics_age  \\\n",
       "id                                       1.000000         -0.193632   \n",
       "demographics_age                        -0.193632          1.000000   \n",
       "demographics_gender                     -0.034422         -0.002896   \n",
       "demographics_grades                      0.286999          0.064535   \n",
       "demographics_psychometrics              -0.065059          0.085412   \n",
       "demographics_control_robot               0.044678          0.005318   \n",
       "demographics_q1                          0.113226         -0.152576   \n",
       "demographics_q2                         -0.079796          0.040379   \n",
       "demographics_q3                         -0.195813          0.052059   \n",
       "tablet_transition_entropy               -0.089798          0.252307   \n",
       "tablet_multi_discipline_entropy          0.061083          0.235923   \n",
       "tablet_psycholetrics                    -0.025442          0.098751   \n",
       "tablet_normalized_total_listenning_time  0.307347         -0.113573   \n",
       "BFI_extraversion                         0.443154         -0.090380   \n",
       "BFI_neuroticism                          0.050652          0.057638   \n",
       "BFI_agreeableness                        0.303606         -0.207043   \n",
       "BFI_concientiousness                     0.235174         -0.004651   \n",
       "BFI_openness                             0.182165          0.102680   \n",
       "AQ_total                                -0.166650          0.112496   \n",
       "\n",
       "                                         demographics_gender  \\\n",
       "id                                                 -0.034422   \n",
       "demographics_age                                   -0.002896   \n",
       "demographics_gender                                 1.000000   \n",
       "demographics_grades                                -0.094292   \n",
       "demographics_psychometrics                          0.283671   \n",
       "demographics_control_robot                          0.154892   \n",
       "demographics_q1                                     0.094838   \n",
       "demographics_q2                                    -0.161940   \n",
       "demographics_q3                                     0.122111   \n",
       "tablet_transition_entropy                          -0.206568   \n",
       "tablet_multi_discipline_entropy                    -0.317013   \n",
       "tablet_psycholetrics                                0.256485   \n",
       "tablet_normalized_total_listenning_time             0.110184   \n",
       "BFI_extraversion                                   -0.106983   \n",
       "BFI_neuroticism                                    -0.362912   \n",
       "BFI_agreeableness                                   0.051101   \n",
       "BFI_concientiousness                               -0.091709   \n",
       "BFI_openness                                        0.230281   \n",
       "AQ_total                                           -0.111248   \n",
       "\n",
       "                                         demographics_grades  \\\n",
       "id                                                  0.286999   \n",
       "demographics_age                                    0.064535   \n",
       "demographics_gender                                -0.094292   \n",
       "demographics_grades                                 1.000000   \n",
       "demographics_psychometrics                          0.190626   \n",
       "demographics_control_robot                         -0.031851   \n",
       "demographics_q1                                    -0.041353   \n",
       "demographics_q2                                    -0.339161   \n",
       "demographics_q3                                    -0.255739   \n",
       "tablet_transition_entropy                          -0.064922   \n",
       "tablet_multi_discipline_entropy                    -0.090936   \n",
       "tablet_psycholetrics                                0.247656   \n",
       "tablet_normalized_total_listenning_time             0.140141   \n",
       "BFI_extraversion                                    0.372329   \n",
       "BFI_neuroticism                                     0.076226   \n",
       "BFI_agreeableness                                  -0.056362   \n",
       "BFI_concientiousness                                0.310556   \n",
       "BFI_openness                                        0.081494   \n",
       "AQ_total                                           -0.063786   \n",
       "\n",
       "                                         demographics_psychometrics  \\\n",
       "id                                                        -0.065059   \n",
       "demographics_age                                           0.085412   \n",
       "demographics_gender                                        0.283671   \n",
       "demographics_grades                                        0.190626   \n",
       "demographics_psychometrics                                 1.000000   \n",
       "demographics_control_robot                                 0.044250   \n",
       "demographics_q1                                           -0.115517   \n",
       "demographics_q2                                           -0.386462   \n",
       "demographics_q3                                           -0.227908   \n",
       "tablet_transition_entropy                                 -0.169727   \n",
       "tablet_multi_discipline_entropy                           -0.184063   \n",
       "tablet_psycholetrics                                       1.000000   \n",
       "tablet_normalized_total_listenning_time                   -0.089595   \n",
       "BFI_extraversion                                           0.010392   \n",
       "BFI_neuroticism                                            0.005423   \n",
       "BFI_agreeableness                                         -0.128660   \n",
       "BFI_concientiousness                                      -0.246980   \n",
       "BFI_openness                                              -0.015537   \n",
       "AQ_total                                                  -0.075549   \n",
       "\n",
       "                                         demographics_control_robot  \\\n",
       "id                                                         0.044678   \n",
       "demographics_age                                           0.005318   \n",
       "demographics_gender                                        0.154892   \n",
       "demographics_grades                                       -0.031851   \n",
       "demographics_psychometrics                                 0.044250   \n",
       "demographics_control_robot                                 1.000000   \n",
       "demographics_q1                                            0.497022   \n",
       "demographics_q2                                           -0.101131   \n",
       "demographics_q3                                            0.262260   \n",
       "tablet_transition_entropy                                 -0.238999   \n",
       "tablet_multi_discipline_entropy                           -0.117255   \n",
       "tablet_psycholetrics                                       0.077394   \n",
       "tablet_normalized_total_listenning_time                    0.094298   \n",
       "BFI_extraversion                                           0.187738   \n",
       "BFI_neuroticism                                           -0.177709   \n",
       "BFI_agreeableness                                          0.078981   \n",
       "BFI_concientiousness                                       0.136894   \n",
       "BFI_openness                                               0.116708   \n",
       "AQ_total                                                   0.007276   \n",
       "\n",
       "                                         demographics_q1  demographics_q2  \\\n",
       "id                                              0.113226        -0.079796   \n",
       "demographics_age                               -0.152576         0.040379   \n",
       "demographics_gender                             0.094838        -0.161940   \n",
       "demographics_grades                            -0.041353        -0.339161   \n",
       "demographics_psychometrics                     -0.115517        -0.386462   \n",
       "demographics_control_robot                      0.497022        -0.101131   \n",
       "demographics_q1                                 1.000000        -0.106491   \n",
       "demographics_q2                                -0.106491         1.000000   \n",
       "demographics_q3                                 0.189222         0.280699   \n",
       "tablet_transition_entropy                      -0.014478         0.122739   \n",
       "tablet_multi_discipline_entropy                 0.078764         0.170439   \n",
       "tablet_psycholetrics                           -0.101890        -0.373046   \n",
       "tablet_normalized_total_listenning_time         0.019813        -0.103084   \n",
       "BFI_extraversion                                0.076895        -0.152166   \n",
       "BFI_neuroticism                                -0.278838         0.066227   \n",
       "BFI_agreeableness                              -0.038859        -0.053439   \n",
       "BFI_concientiousness                           -0.023255         0.116887   \n",
       "BFI_openness                                    0.094278        -0.003171   \n",
       "AQ_total                                       -0.010388        -0.007484   \n",
       "\n",
       "                                         demographics_q3  \\\n",
       "id                                             -0.195813   \n",
       "demographics_age                                0.052059   \n",
       "demographics_gender                             0.122111   \n",
       "demographics_grades                            -0.255739   \n",
       "demographics_psychometrics                     -0.227908   \n",
       "demographics_control_robot                      0.262260   \n",
       "demographics_q1                                 0.189222   \n",
       "demographics_q2                                 0.280699   \n",
       "demographics_q3                                 1.000000   \n",
       "tablet_transition_entropy                       0.019684   \n",
       "tablet_multi_discipline_entropy                -0.132100   \n",
       "tablet_psycholetrics                           -0.244576   \n",
       "tablet_normalized_total_listenning_time         0.035835   \n",
       "BFI_extraversion                                0.040098   \n",
       "BFI_neuroticism                                -0.323375   \n",
       "BFI_agreeableness                               0.103643   \n",
       "BFI_concientiousness                            0.340009   \n",
       "BFI_openness                                    0.126224   \n",
       "AQ_total                                       -0.180291   \n",
       "\n",
       "                                         tablet_transition_entropy  \\\n",
       "id                                                       -0.089798   \n",
       "demographics_age                                          0.252307   \n",
       "demographics_gender                                      -0.206568   \n",
       "demographics_grades                                      -0.064922   \n",
       "demographics_psychometrics                               -0.169727   \n",
       "demographics_control_robot                               -0.238999   \n",
       "demographics_q1                                          -0.014478   \n",
       "demographics_q2                                           0.122739   \n",
       "demographics_q3                                           0.019684   \n",
       "tablet_transition_entropy                                 1.000000   \n",
       "tablet_multi_discipline_entropy                           0.419909   \n",
       "tablet_psycholetrics                                     -0.169727   \n",
       "tablet_normalized_total_listenning_time                  -0.174142   \n",
       "BFI_extraversion                                         -0.150833   \n",
       "BFI_neuroticism                                           0.189195   \n",
       "BFI_agreeableness                                        -0.065902   \n",
       "BFI_concientiousness                                     -0.102365   \n",
       "BFI_openness                                              0.046546   \n",
       "AQ_total                                                 -0.053024   \n",
       "\n",
       "                                         tablet_multi_discipline_entropy  \\\n",
       "id                                                              0.061083   \n",
       "demographics_age                                                0.235923   \n",
       "demographics_gender                                            -0.317013   \n",
       "demographics_grades                                            -0.090936   \n",
       "demographics_psychometrics                                     -0.184063   \n",
       "demographics_control_robot                                     -0.117255   \n",
       "demographics_q1                                                 0.078764   \n",
       "demographics_q2                                                 0.170439   \n",
       "demographics_q3                                                -0.132100   \n",
       "tablet_transition_entropy                                       0.419909   \n",
       "tablet_multi_discipline_entropy                                 1.000000   \n",
       "tablet_psycholetrics                                           -0.184063   \n",
       "tablet_normalized_total_listenning_time                        -0.015407   \n",
       "BFI_extraversion                                               -0.004439   \n",
       "BFI_neuroticism                                                 0.290090   \n",
       "BFI_agreeableness                                              -0.037042   \n",
       "BFI_concientiousness                                           -0.096997   \n",
       "BFI_openness                                                    0.144087   \n",
       "AQ_total                                                        0.141746   \n",
       "\n",
       "                                         tablet_psycholetrics  \\\n",
       "id                                                  -0.025442   \n",
       "demographics_age                                     0.098751   \n",
       "demographics_gender                                  0.256485   \n",
       "demographics_grades                                  0.247656   \n",
       "demographics_psychometrics                           1.000000   \n",
       "demographics_control_robot                           0.077394   \n",
       "demographics_q1                                     -0.101890   \n",
       "demographics_q2                                     -0.373046   \n",
       "demographics_q3                                     -0.244576   \n",
       "tablet_transition_entropy                           -0.169727   \n",
       "tablet_multi_discipline_entropy                     -0.184063   \n",
       "tablet_psycholetrics                                 1.000000   \n",
       "tablet_normalized_total_listenning_time             -0.089595   \n",
       "BFI_extraversion                                     0.039711   \n",
       "BFI_neuroticism                                      0.028608   \n",
       "BFI_agreeableness                                   -0.136297   \n",
       "BFI_concientiousness                                -0.216659   \n",
       "BFI_openness                                        -0.012785   \n",
       "AQ_total                                            -0.093808   \n",
       "\n",
       "                                         tablet_normalized_total_listenning_time  \\\n",
       "id                                                                      0.307347   \n",
       "demographics_age                                                       -0.113573   \n",
       "demographics_gender                                                     0.110184   \n",
       "demographics_grades                                                     0.140141   \n",
       "demographics_psychometrics                                             -0.089595   \n",
       "demographics_control_robot                                              0.094298   \n",
       "demographics_q1                                                         0.019813   \n",
       "demographics_q2                                                        -0.103084   \n",
       "demographics_q3                                                         0.035835   \n",
       "tablet_transition_entropy                                              -0.174142   \n",
       "tablet_multi_discipline_entropy                                        -0.015407   \n",
       "tablet_psycholetrics                                                   -0.089595   \n",
       "tablet_normalized_total_listenning_time                                 1.000000   \n",
       "BFI_extraversion                                                        0.468538   \n",
       "BFI_neuroticism                                                         0.031266   \n",
       "BFI_agreeableness                                                      -0.290516   \n",
       "BFI_concientiousness                                                    0.391827   \n",
       "BFI_openness                                                            0.273811   \n",
       "AQ_total                                                                0.426806   \n",
       "\n",
       "                                         BFI_extraversion  BFI_neuroticism  \\\n",
       "id                                               0.443154         0.050652   \n",
       "demographics_age                                -0.090380         0.057638   \n",
       "demographics_gender                             -0.106983        -0.362912   \n",
       "demographics_grades                              0.372329         0.076226   \n",
       "demographics_psychometrics                       0.010392         0.005423   \n",
       "demographics_control_robot                       0.187738        -0.177709   \n",
       "demographics_q1                                  0.076895        -0.278838   \n",
       "demographics_q2                                 -0.152166         0.066227   \n",
       "demographics_q3                                  0.040098        -0.323375   \n",
       "tablet_transition_entropy                       -0.150833         0.189195   \n",
       "tablet_multi_discipline_entropy                 -0.004439         0.290090   \n",
       "tablet_psycholetrics                             0.039711         0.028608   \n",
       "tablet_normalized_total_listenning_time          0.468538         0.031266   \n",
       "BFI_extraversion                                 1.000000        -0.018893   \n",
       "BFI_neuroticism                                 -0.018893         1.000000   \n",
       "BFI_agreeableness                                0.256290        -0.292921   \n",
       "BFI_concientiousness                             0.134829        -0.121459   \n",
       "BFI_openness                                     0.343645         0.004065   \n",
       "AQ_total                                        -0.132181         0.506237   \n",
       "\n",
       "                                         BFI_agreeableness  \\\n",
       "id                                                0.303606   \n",
       "demographics_age                                 -0.207043   \n",
       "demographics_gender                               0.051101   \n",
       "demographics_grades                              -0.056362   \n",
       "demographics_psychometrics                       -0.128660   \n",
       "demographics_control_robot                        0.078981   \n",
       "demographics_q1                                  -0.038859   \n",
       "demographics_q2                                  -0.053439   \n",
       "demographics_q3                                   0.103643   \n",
       "tablet_transition_entropy                        -0.065902   \n",
       "tablet_multi_discipline_entropy                  -0.037042   \n",
       "tablet_psycholetrics                             -0.136297   \n",
       "tablet_normalized_total_listenning_time          -0.290516   \n",
       "BFI_extraversion                                  0.256290   \n",
       "BFI_neuroticism                                  -0.292921   \n",
       "BFI_agreeableness                                 1.000000   \n",
       "BFI_concientiousness                              0.162844   \n",
       "BFI_openness                                     -0.004923   \n",
       "AQ_total                                         -0.381711   \n",
       "\n",
       "                                         BFI_concientiousness  BFI_openness  \\\n",
       "id                                                   0.235174      0.182165   \n",
       "demographics_age                                    -0.004651      0.102680   \n",
       "demographics_gender                                 -0.091709      0.230281   \n",
       "demographics_grades                                  0.310556      0.081494   \n",
       "demographics_psychometrics                          -0.246980     -0.015537   \n",
       "demographics_control_robot                           0.136894      0.116708   \n",
       "demographics_q1                                     -0.023255      0.094278   \n",
       "demographics_q2                                      0.116887     -0.003171   \n",
       "demographics_q3                                      0.340009      0.126224   \n",
       "tablet_transition_entropy                           -0.102365      0.046546   \n",
       "tablet_multi_discipline_entropy                     -0.096997      0.144087   \n",
       "tablet_psycholetrics                                -0.216659     -0.012785   \n",
       "tablet_normalized_total_listenning_time              0.391827      0.273811   \n",
       "BFI_extraversion                                     0.134829      0.343645   \n",
       "BFI_neuroticism                                     -0.121459      0.004065   \n",
       "BFI_agreeableness                                    0.162844     -0.004923   \n",
       "BFI_concientiousness                                 1.000000      0.366324   \n",
       "BFI_openness                                         0.366324      1.000000   \n",
       "AQ_total                                            -0.085367      0.036605   \n",
       "\n",
       "                                         AQ_total  \n",
       "id                                      -0.166650  \n",
       "demographics_age                         0.112496  \n",
       "demographics_gender                     -0.111248  \n",
       "demographics_grades                     -0.063786  \n",
       "demographics_psychometrics              -0.075549  \n",
       "demographics_control_robot               0.007276  \n",
       "demographics_q1                         -0.010388  \n",
       "demographics_q2                         -0.007484  \n",
       "demographics_q3                         -0.180291  \n",
       "tablet_transition_entropy               -0.053024  \n",
       "tablet_multi_discipline_entropy          0.141746  \n",
       "tablet_psycholetrics                    -0.093808  \n",
       "tablet_normalized_total_listenning_time  0.426806  \n",
       "BFI_extraversion                        -0.132181  \n",
       "BFI_neuroticism                          0.506237  \n",
       "BFI_agreeableness                       -0.381711  \n",
       "BFI_concientiousness                    -0.085367  \n",
       "BFI_openness                             0.036605  \n",
       "AQ_total                                 1.000000  "
      ]
     },
     "execution_count": 184,
     "metadata": {},
     "output_type": "execute_result"
    }
   ],
   "source": [
    "corr = df_summary.corr()\n",
    "corr"
   ]
  },
  {
   "cell_type": "code",
   "execution_count": 173,
   "metadata": {
    "collapsed": false
   },
   "outputs": [],
   "source": [
    "def correlation_matrix(df):\n",
    "    %matplotlib inline\n",
    "    corr = df.corr()\n",
    "    #print(corr)\n",
    "    plt.figure(figsize=(6,6))\n",
    "    cax = plt.matshow(corr,fignum=1)\n",
    "    headers = list(df_summary)\n",
    "    x_pos = np.arange(len(headers))\n",
    "    plt.xticks(x_pos, headers, rotation='vertical', fontsize=10)\n",
    "    y_pos = np.arange(len(headers))\n",
    "    plt.yticks(y_pos, headers, fontsize=10)\n",
    "    plt.colorbar(cax)\n",
    "    plt.show()"
   ]
  },
  {
   "cell_type": "code",
   "execution_count": 185,
   "metadata": {
    "collapsed": false
   },
   "outputs": [
    {
     "data": {
      "image/png": "[encoded data removed]",
      "text/plain": [
       "<matplotlib.figure.Figure at 0x10909c350>"
      ]
     },
     "metadata": {},
     "output_type": "display_data"
    }
   ],
   "source": [
    "correlation_matrix(df_summary)"
   ]
  },
  {
   "cell_type": "markdown",
   "metadata": {},
   "source": [
    "### Plot correlations between 2 variables"
   ]
  },
  {
   "cell_type": "code",
   "execution_count": 209,
   "metadata": {
    "collapsed": true
   },
   "outputs": [],
   "source": [
    "def plot_correlations(str_var1,str_var2):\n",
    "    #plt.plot(df_summary[\"demographics_psychometrics\"], df_summary[\"BFI_extraversion\"], 'ro')\n",
    "    #plt.axis([400, 800, 0, 5])\n",
    "    #plt.show()\n",
    "    df_clean = df_summary[[str_var1, str_var2]].dropna()\n",
    "    print(\"(r,p-value)=\",pearsonr(df_clean[str_var1], df_clean[str_var2]))\n",
    "    \n",
    "    x = df_clean[str_var1]\n",
    "    y = df_clean[str_var2]\n",
    "    fig, ax = plt.subplots()\n",
    "    idx = np.isfinite(x) & np.isfinite(y)\n",
    "    fit = np.polyfit(x[idx], y[idx], deg=1)\n",
    "    plt.xlabel(x.name)\n",
    "    plt.ylabel(y.name)\n",
    "    ax.plot(x[idx], fit[0] * x[idx] + fit[1], color='red')\n",
    "    ax.scatter(x, y)\n",
    "    fig.show()"
   ]
  },
  {
   "cell_type": "code",
   "execution_count": 212,
   "metadata": {
    "collapsed": false
   },
   "outputs": [
    {
     "name": "stdout",
     "output_type": "stream",
     "text": [
      "('(r,p-value)=', (-0.018892851168046721, 0.89747846885563065))\n"
     ]
    },
    {
     "data": {
      "image/png": "[encoded data removed]",
      "text/plain": [
       "<matplotlib.figure.Figure at 0x108416650>"
      ]
     },
     "metadata": {},
     "output_type": "display_data"
    }
   ],
   "source": [
    "plot_correlations(\"BFI_neuroticism\", \"BFI_extraversion\")"
   ]
  },
  {
   "cell_type": "code",
   "execution_count": 211,
   "metadata": {
    "collapsed": false
   },
   "outputs": [
    {
     "name": "stdout",
     "output_type": "stream",
     "text": [
      "('(r,p-value)=', (0.50623682794593905, 0.00020634639278609989))\n"
     ]
    },
    {
     "data": {
      "image/png": "[encoded data removed]",
      "text/plain": [
       "<matplotlib.figure.Figure at 0x109740f10>"
      ]
     },
     "metadata": {},
     "output_type": "display_data"
    }
   ],
   "source": [
    "plot_correlations(\"AQ_total\",\"BFI_neuroticism\")"
   ]
  },
  {
   "cell_type": "code",
   "execution_count": 213,
   "metadata": {
    "collapsed": false
   },
   "outputs": [
    {
     "name": "stdout",
     "output_type": "stream",
     "text": [
      "('(r,p-value)=', (-0.38171108284613536, 0.0068035033519837258))\n"
     ]
    },
    {
     "data": {
      "image/png": "[encoded data removed]",
      "text/plain": [
       "<matplotlib.figure.Figure at 0x10b9c2ad0>"
      ]
     },
     "metadata": {},
     "output_type": "display_data"
    }
   ],
   "source": [
    "plot_correlations(\"AQ_total\",\"BFI_agreeableness\")"
   ]
  },
  {
   "cell_type": "code",
   "execution_count": 214,
   "metadata": {
    "collapsed": false
   },
   "outputs": [
    {
     "name": "stdout",
     "output_type": "stream",
     "text": [
      "('(r,p-value)=', (0.4268059436006566, 0.023508562203659922))\n"
     ]
    },
    {
     "data": {
      "image/png": "[encoded data removed]",
      "text/plain": [
       "<matplotlib.figure.Figure at 0x10b9ddfd0>"
      ]
     },
     "metadata": {},
     "output_type": "display_data"
    }
   ],
   "source": [
    "plot_correlations(\"AQ_total\",\"tablet_normalized_total_listenning_time\")"
   ]
  },
  {
   "cell_type": "code",
   "execution_count": 215,
   "metadata": {
    "collapsed": false
   },
   "outputs": [
    {
     "name": "stdout",
     "output_type": "stream",
     "text": [
      "('(r,p-value)=', (0.4685382807284541, 0.011910713699130842))\n"
     ]
    },
    {
     "data": {
      "image/png": "[encoded data removed]",
      "text/plain": [
       "<matplotlib.figure.Figure at 0x108e79850>"
      ]
     },
     "metadata": {},
     "output_type": "display_data"
    }
   ],
   "source": [
    "plot_correlations(\"tablet_normalized_total_listenning_time\",\"BFI_extraversion\")"
   ]
  },
  {
   "cell_type": "code",
   "execution_count": 216,
   "metadata": {
    "collapsed": false,
    "scrolled": true
   },
   "outputs": [
    {
     "name": "stdout",
     "output_type": "stream",
     "text": [
      "('(r,p-value)=', (0.49702163029044893, 0.00044182717971674365))\n"
     ]
    },
    {
     "data": {
      "image/png": "[encoded data removed]",
      "text/plain": [
       "<matplotlib.figure.Figure at 0x108edc710>"
      ]
     },
     "metadata": {},
     "output_type": "display_data"
    }
   ],
   "source": [
    "plot_correlations(\"demographics_q1\",\"demographics_control_robot\")"
   ]
  },
  {
   "cell_type": "markdown",
   "metadata": {},
   "source": [
    "demographics_q1 = כמה קשה היה לך ללמוד לשלוט על הרובוט?\n",
    "1: קשה מאוד"
   ]
  },
  {
   "cell_type": "code",
   "execution_count": 222,
   "metadata": {
    "collapsed": false
   },
   "outputs": [
    {
     "name": "stdout",
     "output_type": "stream",
     "text": [
      "('(r,p-value)=', (-0.38646168927287217, 0.0087347969661756425))\n"
     ]
    },
    {
     "data": {
      "image/png": "[encoded data removed]",
      "text/plain": [
       "<matplotlib.figure.Figure at 0x108c75090>"
      ]
     },
     "metadata": {},
     "output_type": "display_data"
    }
   ],
   "source": [
    "plot_correlations(\"demographics_q2\",\"demographics_psychometrics\")"
   ]
  },
  {
   "cell_type": "markdown",
   "metadata": {},
   "source": [
    "demographics_q2:\n",
    "עד כמה הרובוט חכם לדעתך? 1 לא חכם\n",
    "\n",
    "(ככל שהציון בפסיכומטרי גבוה יותר הם נטו לחשוב שהרובוט לא חכם)"
   ]
  },
  {
   "cell_type": "code",
   "execution_count": 221,
   "metadata": {
    "collapsed": false
   },
   "outputs": [
    {
     "name": "stdout",
     "output_type": "stream",
     "text": [
      "('(r,p-value)=', (0.34000862046765562, 0.018055534686933234))\n"
     ]
    },
    {
     "data": {
      "image/png": "[encoded data removed]",
      "text/plain": [
       "<matplotlib.figure.Figure at 0x10b593410>"
      ]
     },
     "metadata": {},
     "output_type": "display_data"
    }
   ],
   "source": [
    "plot_correlations('demographics_q3','BFI_concientiousness')"
   ]
  },
  {
   "cell_type": "markdown",
   "metadata": {},
   "source": [
    "demographics_q3:\n",
    "האם נהנית מהאינטראקציה עם הרובוט?\n",
    "1 לא נהניתי"
   ]
  },
  {
   "cell_type": "code",
   "execution_count": 219,
   "metadata": {
    "collapsed": false
   },
   "outputs": [
    {
     "name": "stdout",
     "output_type": "stream",
     "text": [
      "('(r,p-value)=', (0.41990925930169304, 0.0029662902648097517))\n"
     ]
    },
    {
     "data": {
      "image/png": "[encoded data removed]",
      "text/plain": [
       "<matplotlib.figure.Figure at 0x107f19e10>"
      ]
     },
     "metadata": {},
     "output_type": "display_data"
    }
   ],
   "source": [
    "plot_correlations(\"tablet_transition_entropy\", \"tablet_multi_discipline_entropy\")"
   ]
  },
  {
   "cell_type": "code",
   "execution_count": null,
   "metadata": {
    "collapsed": true
   },
   "outputs": [],
   "source": []
  }
 ],
 "metadata": {
  "kernelspec": {
   "display_name": "Python 2",
   "language": "python",
   "name": "python2"
  },
  "language_info": {
   "codemirror_mode": {
    "name": "ipython",
    "version": 2
   },
   "file_extension": ".py",
   "mimetype": "text/x-python",
   "name": "python",
   "nbconvert_exporter": "python",
   "pygments_lexer": "ipython2",
   "version": "2.7.10"
  }
 },
 "nbformat": 4,
 "nbformat_minor": 0
}
