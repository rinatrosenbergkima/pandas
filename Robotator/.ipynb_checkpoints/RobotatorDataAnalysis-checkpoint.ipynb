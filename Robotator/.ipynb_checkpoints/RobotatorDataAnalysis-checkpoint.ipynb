{
 "cells": [
  {
   "cell_type": "markdown",
   "metadata": {},
   "source": [
    "# Robotator Data Analysis"
   ]
  },
  {
   "cell_type": "markdown",
   "metadata": {},
   "source": [
    "\n",
    "useful links:\n",
    "\n",
    "https://matplotlib.org/tutorials/\n",
    "\n",
    "http://pandas.pydata.org/pandas-docs/stable/\n",
    "\n",
    "http://pandas.pydata.org/pandas-docs/version/0.18/generated/pandas.core.groupby.DataFrameGroupBy.hist.html\n"
   ]
  },
  {
   "cell_type": "markdown",
   "metadata": {},
   "source": [
    "Read libraries:"
   ]
  },
  {
   "cell_type": "code",
   "execution_count": 18,
   "metadata": {
    "collapsed": true
   },
   "outputs": [],
   "source": [
    "import pandas as pd\n",
    "import numpy as np\n",
    "import matplotlib.pyplot as plt\n",
    "import matplotlib as mpl\n",
    "import matplotlib.cbook as cbook\n",
    "from scipy.stats import pearsonr"
   ]
  },
  {
   "cell_type": "code",
   "execution_count": 2,
   "metadata": {
    "collapsed": false
   },
   "outputs": [],
   "source": [
    "\n",
    "#df_robotator = pd.read_csv('BFI.csv', sep=',')\n",
    "#df_tablet = pd.read_csv('tablet.csv', sep=',')\n",
    "#df_summary = pd.DataFrame ()"
   ]
  },
  {
   "cell_type": "markdown",
   "metadata": {},
   "source": [
    "### NARs Summary Analysis:\n",
    "\n",
    "Sub-scale 1: Negative Attitudes toward Situations and Interactions with Robots. Items - 4,7,8,9,10,12\n",
    "\n",
    "Sub-scale 2: Negative Attitudes toward Social Influence of Robots. Items - 1,2,11,13,14\n",
    "\n",
    "Sub-scale 3: Negative Attitudes toward Emotions in Interaction with Robots. Items - 3r,5r,6r\n",
    "\n",
    "Syrdal, D. S., Dautenhahn, K., Koay, K. L., & Walters, M. L. (2009). The negative attitudes towards robots scale and reactions to robot behaviour in a live human-robot interaction study. Adaptive and Emergent Behaviour and Complex Systems.\n",
    "\n",
    "r=reversed"
   ]
  },
  {
   "cell_type": "code",
   "execution_count": 22,
   "metadata": {
    "collapsed": false
   },
   "outputs": [],
   "source": [
    "def calculate_factors_NARS(data_frame_NARS):\n",
    "#data_frame_NARS: a data frame of 14 columns \n",
    "\n",
    "    NARS_facrots = pd.DataFrame()\n",
    "    NARS_facrots[\"NARS_sub1\"] = data_frame_NARS[[3,6,7,8,9,11]].mean(axis=1)\n",
    "    NARS_facrots[\"NARS_sub2\"] = data_frame_NARS[[0,1,10,12,13]].mean(axis=1)\n",
    "    NARS_facrots[\"NARS_sub3\"] = 6 - data_frame_NARS[[2,4,5]].mean(axis=1)\n",
    "    \n",
    "    return NARS_facrots\n"
   ]
  },
  {
   "cell_type": "markdown",
   "metadata": {},
   "source": [
    "##Godspeed Summary Analysis\n",
    "The Godspeed questionnaires defined by Bartneck, Kulic, and Croft (2009)\n",
    "were used to assess the children’s impressions of the robot, going beyond the\n",
    "ones already covered in the ALMERE questionnaire. \n",
    "\n",
    "Anthropomorphism: Items 1,2,3,4,5\n",
    "\n",
    "Animacy: Items 6,7,8,9,10,11\n",
    "\n",
    "Likeability: Items 12,13,14,15,16\n",
    "\n",
    "Perceived Intelligence: 17,18,19,20,21\n",
    "\n",
    "Perceived Safety: 22,23,24\n",
    "\n",
    "Bartneck, C., Kulić, D., Croft, E., & Zoghbi, S. (2009). Measurement instruments for the anthropomorphism, animacy, likeability, perceived intelligence, and perceived safety of robots. International journal of social robotics, 1(1), 71-81."
   ]
  },
  {
   "cell_type": "code",
   "execution_count": null,
   "metadata": {
    "collapsed": true
   },
   "outputs": [],
   "source": [
    "def calculate_factors_Godspeed(data_frame_Godspeed):\n",
    "#data_frame_NARS: a data frame of 24 columns \n",
    "\n",
    "    Godspeed_facrots = pd.DataFrame()\n",
    "    Godspeed_facrots[\"Godspeed_Anthropomorphism\"] = data_frame_Godspeed[[0,1,2,3,4]].mean(axis=1)\n",
    "    Godspeed_facrots[\"Godspeed_Animacy\"] = data_frame_Godspeed[[5,6,7,8,9,10]].mean(axis=1)\n",
    "    Godspeed_facrots[\"Godspeed_Likeability\"] =  data_frame_Godspeed[[11,12,13,14,15]].mean(axis=1)\n",
    "    Godspeed_facrots[\"Godspeed_Intelligence\"] = data_frame_Godspeed[[16,17,18,19,20]].mean(axis=1)\n",
    "    Godspeed_facrots[\"Godspeed_Safety\"] = data_frame_Godspeed[[21,22,23]].mean(axis=1)\n",
    "    \n",
    "    return Godspeed_facrots\n"
   ]
  },
  {
   "cell_type": "markdown",
   "metadata": {},
   "source": [
    "##Useful functions"
   ]
  },
  {
   "cell_type": "code",
   "execution_count": 52,
   "metadata": {
    "collapsed": true
   },
   "outputs": [],
   "source": [
    "def correlation_matrix(df):\n",
    "    %matplotlib inline\n",
    "    corr = df.corr()\n",
    "    #print(corr)\n",
    "    plt.figure(figsize=(6,6))\n",
    "    cax = plt.matshow(corr,fignum=1)\n",
    "    headers = list(df)\n",
    "    x_pos = np.arange(len(headers))\n",
    "    plt.xticks(x_pos, headers, rotation='vertical', fontsize=10)\n",
    "    y_pos = np.arange(len(headers))\n",
    "    plt.yticks(y_pos, headers, fontsize=10)\n",
    "    plt.colorbar(cax)\n",
    "    plt.show()"
   ]
  },
  {
   "cell_type": "code",
   "execution_count": 69,
   "metadata": {
    "collapsed": true
   },
   "outputs": [],
   "source": [
    "def plot_histogram (x):\n",
    "    \n",
    "    # n, bins, patches = plt.hist(x, 50, normed=1, facecolor='green', alpha=1)\n",
    "    n, bins, patches = plt.hist(x, 5, facecolor='blue', alpha=1)\n",
    "    plt.xlabel(x.name)\n",
    "    plt.ylabel('count')\n",
    "    plt.title(x.name + \" histogram\")\n",
    "    #plt.axis([40, 160, 0, 0.03])\n",
    "    plt.grid(True)\n",
    "    plt.show()"
   ]
  },
  {
   "cell_type": "markdown",
   "metadata": {},
   "source": [
    "## Read and process robotator data"
   ]
  },
  {
   "cell_type": "code",
   "execution_count": 72,
   "metadata": {
    "collapsed": false
   },
   "outputs": [],
   "source": [
    "df_robotator = pd.read_csv('Results_RobotatorHCI_6_2018.csv', sep=',')\n",
    "\n",
    "NARS_titles = []\n",
    "for i in range(1,15):\n",
    "    strNARS_i = 'NARS_'+str(i)\n",
    "    NARS_titles.append(strNARS_i)\n",
    "df_NARS = df_robotator[NARS_titles]\n",
    "NARS_factors = calculate_factors_NARS(df_NARS)\n",
    "\n",
    "Godspeed_titles = []\n",
    "for i in range(1,25):\n",
    "    strGodspeed_i = 'Gdspd_'+str(i)\n",
    "    Godspeed_titles.append(strGodspeed_i)\n",
    "df_Godspeed = df_robotator[Godspeed_titles]\n",
    "Godspeed_factors = calculate_factors_Godspeed(df_Godspeed)\n",
    "\n",
    "SIMS_titles = []\n",
    "for i in range(1,17):\n",
    "    strSIMS_i = 'SIMS_'+str(i)\n",
    "    SIMS_titles.append(strSIMS_i)\n",
    "df_SIMS = df_robotator[SIMS_titles]\n",
    "\n",
    "Attitudes_tablet_titles = []\n",
    "for i in range(1,16):\n",
    "    strAttitudes_tablet_i = 'A_ta_'+str(i)\n",
    "    Attitudes_tablet_titles.append(strAttitudes_tablet_i)\n",
    "df_Attitudes_tablet = df_robotator[Attitudes_tablet_titles]\n",
    "\n",
    "Attitudes_robot_titles = []\n",
    "for i in range(1,16):\n",
    "    strAttitudes_robot_i = 'A_ro_'+str(i)\n",
    "    Attitudes_robot_titles.append(strAttitudes_robot_i)\n",
    "df_Attitudes_robot = df_robotator[Attitudes_robot_titles]\n",
    "\n",
    "Attitudes_teacher_titles = []\n",
    "for i in range(1,16):\n",
    "    strAttitudes_teacher_i = 'A_te_'+str(i)\n",
    "    Attitudes_teacher_titles.append(strAttitudes_teacher_i)\n",
    "df_Attitudes_teacher = df_robotator[Attitudes_teacher_titles]\n"
   ]
  },
  {
   "cell_type": "code",
   "execution_count": 67,
   "metadata": {
    "collapsed": false
   },
   "outputs": [
    {
     "data": {
      "image/png": "[encoded data removed]",
      "text/plain": [
       "<matplotlib.figure.Figure at 0x108b73450>"
      ]
     },
     "metadata": {},
     "output_type": "display_data"
    }
   ],
   "source": [
    "correlation_matrix(df_Attitudes_teacher)"
   ]
  },
  {
   "cell_type": "code",
   "execution_count": 68,
   "metadata": {
    "collapsed": false
   },
   "outputs": [
    {
     "data": {
      "image/png": "[encoded data removed]",
      "text/plain": [
       "<matplotlib.figure.Figure at 0x10a2cf2d0>"
      ]
     },
     "metadata": {},
     "output_type": "display_data"
    }
   ],
   "source": [
    "correlation_matrix(df_Attitudes_tablet)"
   ]
  },
  {
   "cell_type": "code",
   "execution_count": 71,
   "metadata": {
    "collapsed": false
   },
   "outputs": [
    {
     "ename": "SyntaxError",
     "evalue": "invalid syntax (<ipython-input-71-dafad371d69b>, line 1)",
     "output_type": "error",
     "traceback": [
      "\u001b[0;36m  File \u001b[0;32m\"<ipython-input-71-dafad371d69b>\"\u001b[0;36m, line \u001b[0;32m1\u001b[0m\n\u001b[0;31m    for d in NARS_factors\u001b[0m\n\u001b[0m                         ^\u001b[0m\n\u001b[0;31mSyntaxError\u001b[0m\u001b[0;31m:\u001b[0m invalid syntax\n"
     ]
    }
   ],
   "source": [
    "for d in NARS_factors\n",
    "    plot_histogram(d)"
   ]
  },
  {
   "cell_type": "code",
   "execution_count": null,
   "metadata": {
    "collapsed": true
   },
   "outputs": [],
   "source": []
  }
 ],
 "metadata": {
  "kernelspec": {
   "display_name": "Python 2",
   "language": "python",
   "name": "python2"
  },
  "language_info": {
   "codemirror_mode": {
    "name": "ipython",
    "version": 2
   },
   "file_extension": ".py",
   "mimetype": "text/x-python",
   "name": "python",
   "nbconvert_exporter": "python",
   "pygments_lexer": "ipython2",
   "version": "2.7.10"
  }
 },
 "nbformat": 4,
 "nbformat_minor": 0
}
