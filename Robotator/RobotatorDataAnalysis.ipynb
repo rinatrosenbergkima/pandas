{
 "cells": [
  {
   "cell_type": "markdown",
   "metadata": {},
   "source": [
    "# Robotator Data Analysis"
   ]
  },
  {
   "cell_type": "markdown",
   "metadata": {},
   "source": [
    "\n",
    "useful links:\n",
    "\n",
    "https://matplotlib.org/tutorials/\n",
    "\n",
    "http://pandas.pydata.org/pandas-docs/stable/\n",
    "\n",
    "http://pandas.pydata.org/pandas-docs/version/0.18/generated/pandas.core.groupby.DataFrameGroupBy.hist.html\n"
   ]
  },
  {
   "cell_type": "markdown",
   "metadata": {},
   "source": [
    "Read libraries:"
   ]
  },
  {
   "cell_type": "code",
   "execution_count": null,
   "metadata": {
    "collapsed": true
   },
   "outputs": [],
   "source": [
    "import numpy as np\n",
    "import matplotlib.pyplot as plt\n",
    "import matplotlib as mpl\n",
    "import matplotlib.cbook as cbook\n",
    "from scipy.stats import pearsonr"
   ]
  },
  {
   "cell_type": "markdown",
   "metadata": {},
   "source": [
    "Read Robotator data:"
   ]
  },
  {
   "cell_type": "code",
   "execution_count": 26,
   "metadata": {
    "collapsed": false
   },
   "outputs": [],
   "source": [
    "df_robotator = pd.read_csv('Results_RobotatorHCI_6_2018.csv', sep=',')\n",
    "#df_robotator = pd.read_csv('BFI.csv', sep=',')\n",
    "#df_tablet = pd.read_csv('tablet.csv', sep=',')\n",
    "#df_summary = pd.DataFrame ()\n"
   ]
  },
  {
   "cell_type": "markdown",
   "metadata": {},
   "source": [
    "### NARs Analysis:\n",
    "\n",
    "Sub-scale 1: Negative Attitudes toward Situations and Interactions with Robots. Items - 4,7,8,9,10,12\n",
    "\n",
    "Sub-scale 2: Negative Attitudes toward Social Influence of Robots. Items - 1,2,11,13,14\n",
    "\n",
    "Sub-scale 3: Negative Attitudes toward Emotions in Interaction with Robots. Items - 3r,5r,6r\n",
    "\n",
    "Syrdal, D. S., Dautenhahn, K., Koay, K. L., & Walters, M. L. (2009). The negative attitudes towards robots scale and reactions to robot behaviour in a live human-robot interaction study. Adaptive and Emergent Behaviour and Complex Systems.\n",
    "\n",
    "r=reversed"
   ]
  },
  {
   "cell_type": "code",
   "execution_count": 28,
   "metadata": {
    "collapsed": false
   },
   "outputs": [],
   "source": [
    "NARS_titles = []\n",
    "for i in range(1,15):\n",
    "    strNARS_i = 'NARS_'+str(i)\n",
    "    NARS_titles.append(strNARS_i)\n",
    "    \n",
    "df_NARS = df_robotator[NARS_titles]\n",
    "NARS_sub1 = df_NARS[[\"NARS_4\",\"NARS_7\",\"NARS_8\",\"NARS_9\",\"NARS_10\",\"NARS_12\"]].mean(axis=1)\n",
    "NARS_sub2 = df_NARS[[\"NARS_1\",\"NARS_2\",\"NARS_11\",\"NARS_13\",\"NARS_14\"]].mean(axis=1)\n",
    "NARS_sub3 = 6 - df_NARS[[\"NARS_3\",\"NARS_5\",\"NARS_6\"]].mean(axis=1)\n"
   ]
  },
  {
   "cell_type": "markdown",
   "metadata": {},
   "source": [
    "##Godspeed Analysis\n",
    "The Godspeed questionnaires defined by Bartneck, Kulic, and Croft (2009)\n",
    "were used to assess the children’s impressions of the robot, going beyond the\n",
    "ones already covered in the ALMERE questionnaire. \n",
    "\n",
    "Anthropomorphism: Items 1,2,3,4,5\n",
    "\n",
    "Animacy: Items 6,7,8,9,10,11\n",
    "\n",
    "Likeability: Items 12,13,14,15,16\n",
    "\n",
    "Perceived Intelligence: 17,18,19,20,21\n",
    "\n",
    "Perceived Safety: 22,23,24\n",
    "\n",
    "\n",
    "\n",
    "Bartneck, C., Kulić, D., Croft, E., & Zoghbi, S. (2009). Measurement instruments for the anthropomorphism, animacy, likeability, perceived intelligence, and perceived safety of robots. International journal of social robotics, 1(1), 71-81."
   ]
  },
  {
   "cell_type": "code",
   "execution_count": null,
   "metadata": {
    "collapsed": true
   },
   "outputs": [],
   "source": []
  },
  {
   "cell_type": "code",
   "execution_count": null,
   "metadata": {
    "collapsed": true
   },
   "outputs": [],
   "source": []
  }
 ],
 "metadata": {
  "kernelspec": {
   "display_name": "Python 2",
   "language": "python",
   "name": "python2"
  },
  "language_info": {
   "codemirror_mode": {
    "name": "ipython",
    "version": 2
   },
   "file_extension": ".py",
   "mimetype": "text/x-python",
   "name": "python",
   "nbconvert_exporter": "python",
   "pygments_lexer": "ipython2",
   "version": "2.7.10"
  }
 },
 "nbformat": 4,
 "nbformat_minor": 0
}
